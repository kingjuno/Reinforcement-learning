{
 "cells": [
  {
   "cell_type": "code",
   "execution_count": 2,
   "metadata": {},
   "outputs": [],
   "source": [
    "import numpy as np\n",
    "from tqdm.notebook import tqdm"
   ]
  },
  {
   "cell_type": "code",
   "execution_count": 3,
   "metadata": {},
   "outputs": [
    {
     "data": {
      "application/vnd.jupyter.widget-view+json": {
       "model_id": "e2db3382dbaa40c0aa5da42200e7449c",
       "version_major": 2,
       "version_minor": 0
      },
      "text/plain": [
       "Episodes for:lin e-greedy 1.0 0.01 0.05:   0%|          | 0/5000 [00:00<?, ?it/s]"
      ]
     },
     "metadata": {},
     "output_type": "display_data"
    }
   ],
   "source": [
    "# epsilon update for exponential decay greedy\n",
    "init_epsilon=1.0\n",
    "min_epsilon = 0.01\n",
    "decay_ratio = 0.05\n",
    "n_episodes = 5000\n",
    "\n",
    "name = 'lin e-greedy {} {} {}'.format(init_epsilon, min_epsilon, decay_ratio)\n",
    "\n",
    "for e in tqdm(range(n_episodes), desc = 'Episodes for:' +name, leave = False):\n",
    "    decay_episodes = n_episodes * decay_ratio\n",
    "    epsilon = 1 - e/decay_episodes\n",
    "    epsilon *= (init_epsilon - min_epsilon)\n",
    "    epsilon += min_epsilon\n",
    "    epsilon = np.clip(epsilon, min_epsilon, init_epsilon)"
   ]
  },
  {
   "cell_type": "code",
   "execution_count": 4,
   "metadata": {},
   "outputs": [],
   "source": [
    "decay_episodes = int(n_episodes*decay_ratio)\n",
    "rem_episodes = n_episodes - decay_episodes\n",
    "epsilons = 0.01\n",
    "epsilons /= np.logspace(-2, 0, decay_episodes)\n",
    "epsilons *= init_epsilon - min_epsilon\n",
    "epsilons += min_epsilon\n",
    "epsilons = np.pad(epsilons, (0, rem_episodes), 'edge')"
   ]
  },
  {
   "cell_type": "code",
   "execution_count": 5,
   "metadata": {},
   "outputs": [
    {
     "data": {
      "text/plain": [
       "array([0.37232974, 0.58870501])"
      ]
     },
     "execution_count": 5,
     "metadata": {},
     "output_type": "execute_result"
    }
   ],
   "source": [
    "N = np.array([10,4])\n",
    "x = np.sqrt(2* np.log(2) / N)\n",
    "x"
   ]
  }
 ],
 "metadata": {
  "interpreter": {
   "hash": "916dbcbb3f70747c44a77c7bcd40155683ae19c65e1c03b4aa3499c5328201f1"
  },
  "kernelspec": {
   "display_name": "Python 3.8.10 64-bit",
   "language": "python",
   "name": "python3"
  },
  "language_info": {
   "codemirror_mode": {
    "name": "ipython",
    "version": 3
   },
   "file_extension": ".py",
   "mimetype": "text/x-python",
   "name": "python",
   "nbconvert_exporter": "python",
   "pygments_lexer": "ipython3",
   "version": "3.8.10"
  },
  "orig_nbformat": 4
 },
 "nbformat": 4,
 "nbformat_minor": 2
}
